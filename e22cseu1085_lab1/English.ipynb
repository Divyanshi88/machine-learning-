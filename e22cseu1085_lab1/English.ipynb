{
 "cells": [
  {
   "cell_type": "code",
   "execution_count": 75,
   "metadata": {},
   "outputs": [],
   "source": [
    "import nltk\n",
    "from nltk.corpus import stopwords\n",
    "from nltk.tokenize import word_tokenize\n",
    "from nltk.stem import PorterStemmer\n",
    "from nltk.stem import WordNetLemmatizer\n",
    "import nltk\n",
    "\n"
   ]
  },
  {
   "cell_type": "code",
   "execution_count": 70,
   "metadata": {},
   "outputs": [
    {
     "name": "stderr",
     "output_type": "stream",
     "text": [
      "[nltk_data] Downloading package stopwords to\n",
      "[nltk_data]     /Users/divayanshisharama/nltk_data...\n",
      "[nltk_data]   Package stopwords is already up-to-date!\n",
      "[nltk_data] Downloading package punkt to\n",
      "[nltk_data]     /Users/divayanshisharama/nltk_data...\n",
      "[nltk_data]   Package punkt is already up-to-date!\n",
      "[nltk_data] Downloading package wordnet to\n",
      "[nltk_data]     /Users/divayanshisharama/nltk_data...\n",
      "[nltk_data]   Package wordnet is already up-to-date!\n"
     ]
    },
    {
     "data": {
      "text/plain": [
       "True"
      ]
     },
     "execution_count": 70,
     "metadata": {},
     "output_type": "execute_result"
    }
   ],
   "source": [
    "nltk.download(\"stopwords\")\n",
    "nltk.download(\"punkt\")\n",
    "nltk.download('wordnet')"
   ]
  },
  {
   "cell_type": "code",
   "execution_count": 71,
   "metadata": {},
   "outputs": [],
   "source": [
    "stop_words = set(stopwords.words(\"english\"))\n",
    "stemmer = PorterStemmer()\n",
    "lemmatizer = WordNetLemmatizer()"
   ]
  },
  {
   "cell_type": "code",
   "execution_count": 72,
   "metadata": {},
   "outputs": [],
   "source": [
    "def preprocess_text(text):\n",
    "    cleaned_text = text.lower()  \n",
    "    cleaned_text = ' '.join(cleaned_text.split())\n",
    "    print(\"Text after Cleaning:\", cleaned_text)\n",
    "    \n",
    "    tokens = word_tokenize(cleaned_text)\n",
    "    print(\"Tokens after Tokenization:\", tokens)\n",
    "    \n",
    "    tokens_no_stopwords = [word for word in tokens if word not in stop_words]\n",
    "    print(\"Tokens after Stopword Removal:\", tokens_no_stopwords)\n",
    "    \n",
    "    stemmed_tokens = [stemmer.stem(word) for word in tokens_no_stopwords]\n",
    "    print(\"Tokens after Stemming:\", stemmed_tokens)\n",
    "    \n",
    "    lemmatized_tokens = [lemmatizer.lemmatize(word) for word in stemmed_tokens]\n",
    "    print(\"Tokens after Lemmatization:\", lemmatized_tokens)\n",
    "    \n",
    "    return lemmatized_tokens"
   ]
  },
  {
   "cell_type": "code",
   "execution_count": 73,
   "metadata": {},
   "outputs": [
    {
     "name": "stdout",
     "output_type": "stream",
     "text": [
      "Text after Cleaning: the cats are playing happily in the garden.\n",
      "Tokens after Tokenization: ['the', 'cats', 'are', 'playing', 'happily', 'in', 'the', 'garden', '.']\n",
      "Tokens after Stopword Removal: ['cats', 'playing', 'happily', 'garden', '.']\n",
      "Tokens after Stemming: ['cat', 'play', 'happili', 'garden', '.']\n",
      "Tokens after Lemmatization: ['cat', 'play', 'happili', 'garden', '.']\n",
      "Preprocessed Tokens: ['cat', 'play', 'happili', 'garden', '.']\n"
     ]
    }
   ],
   "source": [
    "text = \"The cats are playing happily in the garden.\"\n",
    "preprocessed_tokens = preprocess_text(text)\n",
    "print(\"Preprocessed Tokens:\", preprocessed_tokens)\n"
   ]
  }
 ],
 "metadata": {
  "kernelspec": {
   "display_name": "3.9.9",
   "language": "python",
   "name": "python3"
  },
  "language_info": {
   "codemirror_mode": {
    "name": "ipython",
    "version": 3
   },
   "file_extension": ".py",
   "mimetype": "text/x-python",
   "name": "python",
   "nbconvert_exporter": "python",
   "pygments_lexer": "ipython3",
   "version": "3.9.9"
  }
 },
 "nbformat": 4,
 "nbformat_minor": 2
}
